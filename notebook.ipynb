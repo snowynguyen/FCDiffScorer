{
 "cells": [
  {
   "cell_type": "code",
   "execution_count": 2,
   "metadata": {},
   "outputs": [],
   "source": [
    "import pandas as pd \n",
    "from collections import defaultdict"
   ]
  },
  {
   "cell_type": "code",
   "execution_count": 3,
   "metadata": {},
   "outputs": [],
   "source": [
    "tlkt_df = pd.read_csv(\"DATABASE.xlsx - TLKT.csv\")\n"
   ]
  },
  {
   "cell_type": "code",
   "execution_count": 4,
   "metadata": {},
   "outputs": [
    {
     "name": "stdout",
     "output_type": "stream",
     "text": [
      "           Kỳ thi        Ngày Loại tư liệu kỳ thi Tên file (đích)  \\\n",
      "0  Free Contest 1  03/12/2015  Lời giải (thư mục)        Lời giải   \n",
      "1  Free Contest 1  03/12/2015    Đề bài (thư mục)          Đề bài   \n",
      "2  Free Contest 1  03/12/2015              Đề bài       ASCII.pdf   \n",
      "3  Free Contest 1  03/12/2015              Đề bài      KDIGIT.pdf   \n",
      "4  Free Contest 1  03/12/2015              Đề bài    KEYBOARD.pdf   \n",
      "\n",
      "                                   Link Google Drive  \n",
      "0  https://drive.google.com/drive/folders/1jg7mtI...  \n",
      "1  https://drive.google.com/drive/folders/1hZigcQ...  \n",
      "2  https://drive.google.com/file/d/1jc3vQcj5tCO3t...  \n",
      "3  https://drive.google.com/file/d/1kPQNe4kZ7_I4D...  \n",
      "4  https://drive.google.com/file/d/1tHdavcOnQLDyi...  \n"
     ]
    }
   ],
   "source": [
    "print (tlkt_df.head())"
   ]
  },
  {
   "cell_type": "code",
   "execution_count": 5,
   "metadata": {},
   "outputs": [],
   "source": [
    "class GoogleDriveFile: # refer to the \"gfile\" attribute \n",
    "\n",
    "    def __init__(self, name = \"\", link = \"\") -> None:\n",
    "        self.name = name \n",
    "        self.link = link\n",
    "        self.extension = name[-3:]\n",
    "        _u = (link.split('/'))\n",
    "        self.id = \"\" \n",
    "        for u in _u: \n",
    "            if len(u) > len(self.id):\n",
    "                self.id=u\n",
    "        pass\n",
    "\n",
    "    def __str__(self) -> str:\n",
    "        return f\"File name: {self.name}, file id {self.id}.\"\n",
    "    \n",
    "\n",
    "class Submission:\n",
    "    def __init__(self) -> None:\n",
    "        self.gfile = GoogleDriveFile() \n",
    "        self.status = \"main\" \n",
    "        # status in [\"main\", \"correct\", \"incorrect\"]\n",
    "        # note: this is a simplified version of Polygon status system  \n",
    "        pass\n",
    "\n",
    "class Task: \n",
    "    def __init__(self) -> None:\n",
    "        self.name = \"\" \n",
    "        self.statement_gfile = GoogleDriveFile() \n",
    "        self.submissions = [] # list of Submissions associated with task, typically solutions   \n",
    "        self.editorial_gfile = GoogleDriveFile() \n",
    "        self.testdata_gfile = GoogleDriveFile() \n",
    "        pass\n",
    "\n",
    "    def __str__(self) -> str:\n",
    "        ret = f\" Task name: {self.name}\\n\"\n",
    "        return ret\n",
    "\n",
    "class Contest:\n",
    "    def __init__(self) -> None:\n",
    "        self.name = \"\"\n",
    "        self.tasks = defaultdict(Task)\n",
    "        self.ranking_gfile = GoogleDriveFile()\n",
    "        pass\n",
    "\n",
    "    def __str__(self) -> str:\n",
    "        ret = f\"Contest name: {self.name}\\nContest Details:\\nRanking file: {self.ranking_gfile}\\n\"\n",
    "        for task in self.tasks: \n",
    "            ret += self.tasks[task].__str__()\n",
    "        return ret"
   ]
  },
  {
   "cell_type": "code",
   "execution_count": 6,
   "metadata": {},
   "outputs": [],
   "source": [
    "contests = defaultdict(Contest) \n",
    "\n",
    "for row_id in range(0, len(tlkt_df)): \n",
    "    contest = tlkt_df[\"Kỳ thi\"][row_id]\n",
    "    contests[contest].name = contest\n",
    "    tlkt_type = tlkt_df[\"Loại tư liệu kỳ thi\"][row_id]\n",
    "    file_name = tlkt_df[\"Tên file (đích)\"][row_id]\n",
    "    task = file_name[:-4]\n",
    "    file_glink = tlkt_df[\"Link Google Drive\"][row_id] \n",
    "    file = GoogleDriveFile(file_name, file_glink)\n",
    "\n",
    "    if tlkt_type == \"Đề bài\":\n",
    "        contests[contest].tasks[task].statement_gfile = file\n",
    "        contests[contest].tasks[task].name = task\n",
    "    elif tlkt_type == \"Bảng điểm\": \n",
    "        if (file.extension == \"png\"):\n",
    "            if contests[contest].ranking_gfile.name == \"\":\n",
    "                contests[contest].ranking_gfile = file    \n",
    "        if (file.extension == \"csv\") or (file.extension == \"txt\"):\n",
    "            contests[contest].ranking_gfile = file\n",
    "    "
   ]
  },
  {
   "cell_type": "code",
   "execution_count": 7,
   "metadata": {},
   "outputs": [
    {
     "name": "stdout",
     "output_type": "stream",
     "text": [
      "183\n",
      "defaultdict(<class 'int'>, {'txt': 88, 'png': 34, '': 55, 'csv': 6})\n"
     ]
    }
   ],
   "source": [
    "ranking_ext = defaultdict(int)\n",
    "for contest in contests:\n",
    "    # print(contest[1])\n",
    "    ranking_ext[contests[contest].ranking_gfile.extension] += 1\n",
    "    # print(contests[contest].ranking_gfile) \n",
    "print (len(contests.items())) \n",
    "print (ranking_ext)"
   ]
  },
  {
   "cell_type": "code",
   "execution_count": 8,
   "metadata": {},
   "outputs": [],
   "source": [
    "from googleapiclient.discovery import build\n",
    "from googleapiclient.http import MediaIoBaseDownload\n",
    "import google.auth\n",
    "import io, json\n",
    "\n",
    "def download_file(file_id, destination):\n",
    "    #put json credentials her from service account or the like\n",
    "    # More info: https://cloud.google.com/docs/authentication\n",
    "\n",
    "    credz, _ = google.auth.load_credentials_from_file(\"gdrivefile-downloader-ef880c6487fc.json\")\n",
    "    drive_service = build('drive', 'v3', credentials=credz)\n",
    "    request = drive_service.files().get_media(fileId=file_id)\n",
    "    fh = io.FileIO(destination, 'wb') # this can be used to write to disk\n",
    "    downloader = MediaIoBaseDownload(fh, request)\n",
    "    done = False\n",
    "    while done is False:\n",
    "        status, done = downloader.next_chunk()\n",
    "        print(\"Download %d%%.\" % int(status.progress() * 100))"
   ]
  },
  {
   "cell_type": "code",
   "execution_count": 9,
   "metadata": {},
   "outputs": [
    {
     "name": "stdout",
     "output_type": "stream",
     "text": [
      "Download 100%.\n"
     ]
    }
   ],
   "source": [
    "\n",
    "download_file(\"1o3dcoUU99Y_PyjPJuirw3np4pHJwIRf3\", \"ranking(13).txt\")\n"
   ]
  }
 ],
 "metadata": {
  "kernelspec": {
   "display_name": "venv",
   "language": "python",
   "name": "python3"
  },
  "language_info": {
   "codemirror_mode": {
    "name": "ipython",
    "version": 3
   },
   "file_extension": ".py",
   "mimetype": "text/x-python",
   "name": "python",
   "nbconvert_exporter": "python",
   "pygments_lexer": "ipython3",
   "version": "3.9.12"
  },
  "orig_nbformat": 4,
  "vscode": {
   "interpreter": {
    "hash": "9f5640c681dc8d3b709feece6f7a0d50630dc5e265a3d15163456bcc39112157"
   }
  }
 },
 "nbformat": 4,
 "nbformat_minor": 2
}
